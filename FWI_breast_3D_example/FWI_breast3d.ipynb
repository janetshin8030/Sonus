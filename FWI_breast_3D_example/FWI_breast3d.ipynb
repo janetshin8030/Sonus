{
 "cells": [
  {
   "cell_type": "markdown",
   "metadata": {},
   "source": [
    "# 3D FWI in Stride\n",
    "\n",
    "This notebook adapts Stride's 2D FWI example to work with a 3D breast model."
   ]
  },
  {
   "cell_type": "markdown",
   "metadata": {},
   "source": [
    "Start mosaic runtime:"
   ]
  },
  {
   "cell_type": "code",
   "execution_count": 18,
   "metadata": {},
   "outputs": [],
   "source": [
    "# Set up Mosaic runtime for distributed computing\n",
    "\n",
    "import mosaic\n",
    "\n",
    "await mosaic.interactive('on', num_workers=4, log_level='info')\n",
    "\n",
    "runtime = mosaic.runtime()"
   ]
  },
  {
   "cell_type": "markdown",
   "metadata": {},
   "source": [
    "Problem definition:\n",
    "\n",
    "Create the problem definition, fill it with transducers and their geometry (using one of the default geometry utils), create shots for each transducer, and load breast model (the true sound velocity at each point)."
   ]
  },
  {
   "cell_type": "code",
   "execution_count": 20,
   "metadata": {},
   "outputs": [
    {
     "data": {
      "application/vnd.jupyter.widget-view+json": {
       "model_id": "7978e6c6d92b4a22b9dc45f47dbdfc50",
       "version_major": 2,
       "version_minor": 0
      },
      "image/png": "[encoded data removed]",
      "text/html": [
       "\n",
       "            <div style=\"display: inline-block;\">\n",
       "                <div class=\"jupyter-widgets widget-label\" style=\"text-align: center;\">\n",
       "                    Figure\n",
       "                </div>\n",
       "                <img src='data:image/png;base64,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' width=640.0/>\n",
       "            </div>\n",
       "        "
      ],
      "text/plain": [
       "Canvas(toolbar=Toolbar(toolitems=[('Home', 'Reset original view', 'home', 'home'), ('Back', 'Back to previous …"
      ]
     },
     "metadata": {},
     "output_type": "display_data"
    }
   ],
   "source": [
    "from stride.utils import fetch, wavelets\n",
    "from stride import Space, Time, Grid\n",
    "import numpy as np\n",
    "%matplotlib widget\n",
    "\n",
    "# Define computational domain and discretization\n",
    "space = Space(shape=(356, 385, 160), extra=(50, 50, 50), absorbing=(40, 40, 40), spacing=(0.5e-3, 0.5e-3, 0.5e-3))\n",
    "time = Time(start=0, step=0.08e-6, num=2500)\n",
    "\n",
    "\n",
    "grid = Grid(space, time)\n",
    "\n",
    "from stride import Problem\n",
    "\n",
    "problem = Problem(name='breast3D', space=space, time=time)\n",
    "\n",
    "# Create transducers\n",
    "# the default option will create a single point transducer\n",
    "problem.transducers.default()\n",
    "\n",
    "# Create geometry\n",
    "radius = ((space.limit[0] - 30e-3) / 2,\n",
    "            (space.limit[1] - 05e-3) / 2,\n",
    "            (space.limit[2] - 05e-3))\n",
    "centre = (space.limit[0] / 2,\n",
    "            space.limit[1] / 2,\n",
    "            space.limit[2])\n",
    "# a default ellipsoid geometry will be used in this case\n",
    "# num_locations = 1024\n",
    "num_locations = 256\n",
    "problem.geometry.default('ellipsoidal', num_locations, radius, centre,\n",
    "                        theta=np.pi, threshold=0.5)\n",
    "\n",
    "from stride.utils import wavelets\n",
    "\n",
    "# Populate acquisitions with default shots\n",
    "problem.acquisitions.default()\n",
    "\n",
    "# Create wavelets\n",
    "f_centre = 0.50e6 # Center frequency of 500 kHz\n",
    "n_cycles = 3      # Number of cycles in wavelet\n",
    "\n",
    "for shot in problem.acquisitions.shots:\n",
    "    shot.wavelets.data[0, :] = wavelets.tone_burst(f_centre, n_cycles, time.num, time.step)\n",
    "\n",
    "from stride import ScalarField\n",
    "\n",
    "# Create medium\n",
    "# Load true velocity model for synthetic data generation\n",
    "vp_true = ScalarField(name='vp', grid=grid)\n",
    "fetch('anastasio3D', dest='data/anastasio3D-TrueModel.h5')\n",
    "vp_true.load('data/anastasio3D-TrueModel.h5')\n",
    "\n",
    "problem.medium.add(vp_true)\n",
    "\n",
    "# Plot all components of the problem\n",
    "# Center region: breast tissue\n",
    "# Outer region: surrounding medium (usually water)\n",
    "# Dots/points: transducer positions\n",
    "problem.plot()"
   ]
  },
  {
   "cell_type": "markdown",
   "metadata": {},
   "source": [
    "Modelling Operator:\n",
    "\n",
    "Choosing a PDE to run our forward problem, in this case the isotropic acoustic wave equation."
   ]
  },
  {
   "cell_type": "code",
   "execution_count": 21,
   "metadata": {},
   "outputs": [],
   "source": [
    "from stride import IsoAcousticDevito\n",
    "\n",
    "# Set up PDE solver for wave propagation\n",
    "pde = IsoAcousticDevito.remote(grid=problem.grid, len=runtime.num_workers)"
   ]
  },
  {
   "cell_type": "markdown",
   "metadata": {},
   "source": [
    "Forward problem -- running a simulation to generate an observed data set:\n",
    "\n",
    "The observed data set will later be used to calculate how far off our model is from the actual data.\n",
    "\n",
    "Here we use Stride's utility function \"forward\". If you want to see more detailed code, take a look at the 2d example notebook."
   ]
  },
  {
   "cell_type": "code",
   "execution_count": null,
   "metadata": {},
   "outputs": [],
   "source": [
    "from stride import forward\n",
    "\n",
    "# Run default forward workflow\n",
    "await forward(problem, pde, vp_true, dump=False)"
   ]
  },
  {
   "cell_type": "markdown",
   "metadata": {},
   "source": [
    "Starting model: \n",
    "\n",
    "Unlike in the forward problem, the speed of sound field is unknown to us at this point. We need to choose a starting assumption to begin optimizing from. Here we assume a homogenous speed of 1500 m/s (~water's speed of sound)."
   ]
  },
  {
   "cell_type": "code",
   "execution_count": null,
   "metadata": {},
   "outputs": [],
   "source": [
    "# Initialize starting model for inversion\n",
    "vp = ScalarField.parameter(name='vp', grid=grid, needs_grad=True)\n",
    "vp.fill(1500.) # Initialize with a constant velocity\n",
    "\n",
    "problem.medium.add(vp)"
   ]
  },
  {
   "cell_type": "markdown",
   "metadata": {},
   "source": [
    "Imaging operators:\n",
    "\n",
    "Define operators for our loss function, processing our source wavelets and the modelled/observed data traces, and an optimizer to update the speed of sound model after each iteration (here we use gradient descent).\n",
    "\n",
    "We also limited the speed of sound to between 1400 and 1700 m/s, which will need to change when we introduce bone."
   ]
  },
  {
   "cell_type": "code",
   "execution_count": null,
   "metadata": {},
   "outputs": [],
   "source": [
    "from stride import L2DistanceLoss \n",
    "\n",
    "# Set up optimization components\n",
    "loss = L2DistanceLoss.remote(len=runtime.num_workers)\n",
    "\n",
    "from stride import ProcessWavelets, ProcessObserved, ProcessWaveletsObserved, ProcessTraces\n",
    "\n",
    "\n",
    "process_wavelets = ProcessWavelets.remote(len=runtime.num_workers)\n",
    "process_observed = ProcessObserved.remote(len=runtime.num_workers)\n",
    "process_wavelets_observed = ProcessWaveletsObserved.remote(len=runtime.num_workers)\n",
    "process_traces = ProcessTraces.remote(len=runtime.num_workers)\n",
    "\n",
    "from stride import GradientDescent, ProcessGlobalGradient, ProcessModelIteration\n",
    "\n",
    "# Configure optimization parameters\n",
    "step_size = 10\n",
    "process_grad = ProcessGlobalGradient()\n",
    "process_model = ProcessModelIteration(min=1400., max=1700.)\n",
    "\n",
    "optimiser = GradientDescent(vp, step_size=step_size,\n",
    "                            process_grad=process_grad,\n",
    "                            process_model=process_model)"
   ]
  },
  {
   "cell_type": "markdown",
   "metadata": {},
   "source": [
    "Inverse problem -- estimating the speed of sound:\n",
    "\n",
    "We use a multi-frequency approach, starting with lower frequencies and then moving to higher frequencies for more detail. This is done by dividing the optimization into blocks, each with a max frequency.\n",
    "\n",
    "During each iteration, only a random subset of the shots will actually be used. \n",
    "\n",
    "Here we use the utility function \"adjoint\" to run this optimization loop. If you want to see more detailed code, take a look at the 2d example notebook."
   ]
  },
  {
   "cell_type": "code",
   "execution_count": null,
   "metadata": {},
   "outputs": [],
   "source": [
    "from stride import OptimisationLoop\n",
    "\n",
    "# Clear the previous Devito operators\n",
    "await pde.clear_operators()\n",
    "\n",
    "optimisation_loop = OptimisationLoop()\n",
    "\n",
    "# Specify a series of frequency bands, which we will introduce gradually \n",
    "# into the inversion in order to better condition it\n",
    "# Run multi-frequency inversion\n",
    "\n",
    "max_freqs = [0.3e6, 0.4e6]\n",
    "\n",
    "num_blocks = len(max_freqs)\n",
    "num_iters = 4\n",
    "\n",
    "for block, freq in optimisation_loop.blocks(num_blocks, max_freqs):\n",
    "    await adjoint(problem, pde, loss,\n",
    "        optimisation_loop, optimiser, vp,\n",
    "        num_iters=num_iters,\n",
    "        select_shots=dict(num=15, randomly=True),\n",
    "        f_max=freq)\n",
    "\n",
    "vp.plot()"
   ]
  },
  {
   "cell_type": "markdown",
   "metadata": {},
   "source": [
    "Tear down the mosaic runtime:"
   ]
  },
  {
   "cell_type": "code",
   "execution_count": null,
   "metadata": {},
   "outputs": [],
   "source": [
    "await mosaic.interactive('off')"
   ]
  }
 ],
 "metadata": {
  "kernelspec": {
   "display_name": "stride",
   "language": "python",
   "name": "python3"
  },
  "language_info": {
   "codemirror_mode": {
    "name": "ipython",
    "version": 3
   },
   "file_extension": ".py",
   "mimetype": "text/x-python",
   "name": "python",
   "nbconvert_exporter": "python",
   "pygments_lexer": "ipython3",
   "version": "3.11.10"
  }
 },
 "nbformat": 4,
 "nbformat_minor": 2
}
